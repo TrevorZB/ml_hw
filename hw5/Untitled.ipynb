{
 "cells": [
  {
   "cell_type": "code",
   "execution_count": 4,
   "metadata": {},
   "outputs": [],
   "source": [
    "import csv\n",
    "import sys\n",
    "import numpy as np\n",
    "import pandas as pd\n",
    "import pprint\n",
    "\n",
    "N = 887"
   ]
  },
  {
   "cell_type": "code",
   "execution_count": 119,
   "metadata": {},
   "outputs": [],
   "source": [
    "class KNN:\n",
    "    def __init__(self, data):\n",
    "        self.data = data\n",
    "        \n",
    "    def classify(self, example, k):\n",
    "        self.k = k\n",
    "        self.dists = [sys.float_info.max] * self.k\n",
    "        self.labels = [0] * self.k\n",
    "        for d in self.data:\n",
    "            dist = self._calc_distance(example, d)\n",
    "            index = np.argmax(self.dists)\n",
    "            if dist < self.dists[index]:\n",
    "                self.dists[index] = dist\n",
    "                self.labels[index] = d[0]\n",
    "        prediction = np.bincount(self.labels).argmax()\n",
    "        return 'Survived' if prediction else 'Perished'\n",
    "            \n",
    "    def _calc_distance(self, example, d):\n",
    "        ex = np.array(example)\n",
    "        ex[1] *= 100\n",
    "        dd = np.array(list(map(float, d[1:])))\n",
    "        dd[1] *= 100\n",
    "        return np.linalg.norm(ex - dd)"
   ]
  },
  {
   "cell_type": "code",
   "execution_count": 6,
   "metadata": {},
   "outputs": [],
   "source": [
    "f = open('titanic_data.csv', 'r')\n",
    "r = csv.reader(f)\n",
    "next(r)\n",
    "rows = []\n",
    "for row in r:\n",
    "    rows.append(row)\n",
    "f.close()"
   ]
  },
  {
   "cell_type": "code",
   "execution_count": 126,
   "metadata": {},
   "outputs": [
    {
     "name": "stdout",
     "output_type": "stream",
     "text": [
      "{'k': 1, 'prediction': 'Survived'}\n",
      "{'k': 3, 'prediction': 'Survived'}\n",
      "{'k': 5, 'prediction': 'Perished'}\n",
      "{'k': 7, 'prediction': 'Perished'}\n",
      "{'k': 9, 'prediction': 'Perished'}\n",
      "{'k': 11, 'prediction': 'Perished'}\n"
     ]
    }
   ],
   "source": [
    "for k in [1, 3, 5, 7, 9, 11]:\n",
    "    prediction = knn.classify([2, 0, 25, 1, 0, 30], k=k)\n",
    "    print({'k': k, 'prediction': prediction})"
   ]
  },
  {
   "cell_type": "code",
   "execution_count": 30,
   "metadata": {},
   "outputs": [],
   "source": [
    "class NB:\n",
    "    def __init__(self, data):\n",
    "        self.data = data\n",
    "        self.prob_one = 0\n",
    "        self.prob_zero = 0\n",
    "        self.avgs_vars = pd.DataFrame(0.0, index=['age_1', 'fare_1', 'age_0', 'fare_0'], columns=['avg', 'var'])\n",
    "        self.nomials = self._init_nomials()\n",
    "\n",
    "        self._calc_avgs()\n",
    "        self._calc_vars()\n",
    "        self._calc_nomials()\n",
    "        \n",
    "\n",
    "    def _init_nomials(self):\n",
    "        index = ['Pclass_1', 'Pclass_2', 'Pclass_3', 'Sex_0', 'Sex_1']\n",
    "        for i in range(9):\n",
    "            index.append(f'Siblings/Spouses Aboard_{i}')\n",
    "        for i in range(7):\n",
    "            index.append(f'Parents/Children Aboard_{i}')\n",
    "        return pd.DataFrame(0.0, index=index, columns=['survive', 'perish'])\n",
    "\n",
    "\n",
    "    def _calc_avgs(self):\n",
    "        self.avgs_vars.at['age_1', 'avg'] = self.data.loc[self.data['Survived'] == 1]['Age'].mean()\n",
    "        self.avgs_vars.at['fare_1', 'avg'] = self.data.loc[self.data['Survived'] == 1]['Fare'].mean()\n",
    "        self.avgs_vars.at['age_0', 'avg'] = self.data.loc[self.data['Survived'] == 0]['Age'].mean()\n",
    "        self.avgs_vars.at['fare_0', 'avg'] = self.data.loc[self.data['Survived'] == 0]['Fare'].mean()\n",
    "        \n",
    "\n",
    "    def _calc_vars(self):\n",
    "        self.avgs_vars.at['age_1', 'var'] = self.data.loc[self.data['Survived'] == 1]['Age'].var()        \n",
    "        self.avgs_vars.at['fare_1', 'var'] = self.data.loc[self.data['Survived'] == 1]['Fare'].var()\n",
    "        self.avgs_vars.at['age_0', 'var'] = self.data.loc[self.data['Survived'] == 0]['Age'].var()\n",
    "        self.avgs_vars.at['fare_0', 'var'] = self.data.loc[self.data['Survived'] == 0]['Fare'].var()\n",
    "\n",
    "    \n",
    "    def _calc_nomials(self):\n",
    "        cols = ['Pclass', 'Sex', 'Siblings/Spouses Aboard', 'Parents/Children Aboard']\n",
    "        ones = self.data.loc[self.data['Survived'] == 1][cols]\n",
    "        zeros = self.data.loc[self.data['Survived'] == 0][cols]\n",
    "        ones_size = ones['Sex'].size\n",
    "        zeros_size = zeros['Sex'].size\n",
    "        self.prob_one = ones_size / self.data['Sex'].size\n",
    "        self.prob_zero = 1 - self.prob_one\n",
    "        \n",
    "        for i in range(1, 4):\n",
    "            one = (ones.loc[ones['Pclass'] == i]['Pclass'].size + 1) / (ones_size + 3)\n",
    "            zero = (zeros.loc[zeros['Pclass'] == i]['Pclass'].size + 1) / (zeros_size + 3)\n",
    "            self.nomials.at[f'Pclass_{i}', 'survive'] = one\n",
    "            self.nomials.at[f'Pclass_{i}', 'perish'] = zero\n",
    "        \n",
    "        for i in range(2):\n",
    "            one = (ones.loc[ones['Sex'] == i]['Sex'].size + 1) / (ones_size + 2)\n",
    "            zero = (zeros.loc[zeros['Sex'] == i]['Sex'].size + 1) / (zeros_size + 2)\n",
    "            self.nomials.at[f'Sex_{i}', 'survive'] = one\n",
    "            self.nomials.at[f'Sex_{i}', 'perish'] = zero\n",
    "            \n",
    "        for i in range(9):\n",
    "            one = (ones.loc[ones['Siblings/Spouses Aboard'] == i]['Siblings/Spouses Aboard'].size + 1) / (ones_size + 9)\n",
    "            zero = (zeros.loc[zeros['Siblings/Spouses Aboard'] == i]['Siblings/Spouses Aboard'].size + 1) / (zeros_size + 9) \n",
    "            self.nomials.at[f'Siblings/Spouses Aboard_{i}', 'survive'] = one\n",
    "            self.nomials.at[f'Siblings/Spouses Aboard_{i}', 'perish'] = zero\n",
    "            \n",
    "        for i in range(7):\n",
    "            one = (ones.loc[ones['Parents/Children Aboard'] == i]['Parents/Children Aboard'].size + 1) / (ones_size + 7)\n",
    "            zero = (zeros.loc[zeros['Parents/Children Aboard'] == i]['Parents/Children Aboard'].size + 1) / (zeros_size + 7)\n",
    "            self.nomials.at[f'Parents/Children Aboard_{i}', 'survive'] = one\n",
    "            self.nomials.at[f'Parents/Children Aboard_{i}', 'perish'] = zero\n",
    "            \n",
    "            \n",
    "    def _calc_gauss(self, index, val):\n",
    "        mean = self.avgs_vars.at[index, 'avg']\n",
    "        var = self.avgs_vars.at[index, 'var']\n",
    "        numer = - ((val - mean) ** 2) / (2 * var)\n",
    "        return (1 / np.sqrt(2 * np.pi * var)) * np.exp(numer)\n",
    "            \n",
    "            \n",
    "    def prediction(self, sample):\n",
    "        for label in ['survive', 'perish']:\n",
    "            pclass = self.nomials.at[f'Pclass_{int(sample[0])}', label]\n",
    "            sex = self.nomials.at[f'Sex_{int(sample[1])}', label]\n",
    "            sib = self.nomials.at[f'Siblings/Spouses Aboard_{int(sample[3])}', label]\n",
    "            child = self.nomials.at[f'Parents/Children Aboard_{int(sample[4])}', label]\n",
    "            if label == 'survive':\n",
    "                age = self._calc_gauss(f'age_{1}', int(sample[1]))\n",
    "                fare = self._calc_gauss(f'fare_{1}', int(sample[5]))\n",
    "            else:\n",
    "                age = self._calc_gauss(f'age_{0}', int(sample[1]))\n",
    "                fare = self._calc_gauss(f'fare_{0}', int(sample[5]))\n",
    "            setattr(self, label, self.prob_one * pclass * sex * age * sib * child * fare)\n",
    "\n",
    "        return 'Survived' if self.survive > self.perish else 'Perished'\n",
    "        \n",
    "        \n",
    "        "
   ]
  },
  {
   "cell_type": "code",
   "execution_count": 27,
   "metadata": {},
   "outputs": [],
   "source": [
    "rows = pd.read_csv('titanic_data.csv')"
   ]
  },
  {
   "cell_type": "code",
   "execution_count": 31,
   "metadata": {},
   "outputs": [],
   "source": [
    "nb = NB(rows)"
   ]
  },
  {
   "cell_type": "code",
   "execution_count": 44,
   "metadata": {},
   "outputs": [
    {
     "data": {
      "text/plain": [
       "'Perished'"
      ]
     },
     "execution_count": 44,
     "metadata": {},
     "output_type": "execute_result"
    }
   ],
   "source": [
    "x = [2, 0, 25, 1, 0, 30]\n",
    "nb.prediction(x)"
   ]
  },
  {
   "cell_type": "code",
   "execution_count": null,
   "metadata": {},
   "outputs": [],
   "source": []
  },
  {
   "cell_type": "code",
   "execution_count": null,
   "metadata": {},
   "outputs": [],
   "source": []
  },
  {
   "cell_type": "code",
   "execution_count": null,
   "metadata": {},
   "outputs": [],
   "source": []
  },
  {
   "cell_type": "code",
   "execution_count": null,
   "metadata": {},
   "outputs": [],
   "source": []
  },
  {
   "cell_type": "code",
   "execution_count": null,
   "metadata": {},
   "outputs": [],
   "source": []
  }
 ],
 "metadata": {
  "kernelspec": {
   "display_name": "Python 3",
   "language": "python",
   "name": "python3"
  },
  "language_info": {
   "codemirror_mode": {
    "name": "ipython",
    "version": 3
   },
   "file_extension": ".py",
   "mimetype": "text/x-python",
   "name": "python",
   "nbconvert_exporter": "python",
   "pygments_lexer": "ipython3",
   "version": "3.8.2"
  }
 },
 "nbformat": 4,
 "nbformat_minor": 4
}
